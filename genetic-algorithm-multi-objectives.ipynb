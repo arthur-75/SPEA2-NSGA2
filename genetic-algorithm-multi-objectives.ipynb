{
 "cells": [
  {
   "cell_type": "code",
   "execution_count": 1,
   "id": "238c0257",
   "metadata": {
    "execution": {
     "iopub.execute_input": "2023-02-26T18:58:11.664477Z",
     "iopub.status.busy": "2023-02-26T18:58:11.664027Z",
     "iopub.status.idle": "2023-02-26T18:58:11.730428Z",
     "shell.execute_reply": "2023-02-26T18:58:11.729375Z"
    },
    "papermill": {
     "duration": 0.077481,
     "end_time": "2023-02-26T18:58:11.733220",
     "exception": false,
     "start_time": "2023-02-26T18:58:11.655739",
     "status": "completed"
    },
    "tags": []
   },
   "outputs": [],
   "source": [
    "import pandas as pd\n",
    "import numpy as np\n",
    "stations=pd.read_csv(\"/kaggle/input/carlocations/stations.csv\")\n",
    "vehicles=pd.read_csv(\"/kaggle/input/carlocations/vehicles.csv\")\n",
    "import random\n",
    "import math\n",
    "from deap import base, creator, tools\n",
    "stations[\"cost\"]=stations[\"cost\"]"
   ]
  },
  {
   "cell_type": "code",
   "execution_count": 2,
   "id": "eff056a2",
   "metadata": {
    "execution": {
     "iopub.execute_input": "2023-02-26T18:58:11.742656Z",
     "iopub.status.busy": "2023-02-26T18:58:11.742258Z",
     "iopub.status.idle": "2023-02-26T18:58:11.747805Z",
     "shell.execute_reply": "2023-02-26T18:58:11.747162Z"
    },
    "papermill": {
     "duration": 0.012741,
     "end_time": "2023-02-26T18:58:11.749922",
     "exception": false,
     "start_time": "2023-02-26T18:58:11.737181",
     "status": "completed"
    },
    "tags": []
   },
   "outputs": [],
   "source": [
    "randomm =[np.random.rand() for i in range(stations[\"cost\"].shape[0])]\n",
    "stations[\"cost\"]=stations[\"cost\"]+randomm"
   ]
  },
  {
   "cell_type": "code",
   "execution_count": null,
   "id": "6dc2c318",
   "metadata": {
    "papermill": {
     "duration": 0.003314,
     "end_time": "2023-02-26T18:58:11.756978",
     "exception": false,
     "start_time": "2023-02-26T18:58:11.753664",
     "status": "completed"
    },
    "tags": []
   },
   "outputs": [],
   "source": []
  },
  {
   "cell_type": "code",
   "execution_count": 3,
   "id": "39fc9204",
   "metadata": {
    "execution": {
     "iopub.execute_input": "2023-02-26T18:58:11.765700Z",
     "iopub.status.busy": "2023-02-26T18:58:11.765300Z",
     "iopub.status.idle": "2023-02-26T18:58:11.770479Z",
     "shell.execute_reply": "2023-02-26T18:58:11.769424Z"
    },
    "papermill": {
     "duration": 0.011958,
     "end_time": "2023-02-26T18:58:11.772444",
     "exception": false,
     "start_time": "2023-02-26T18:58:11.760486",
     "status": "completed"
    },
    "tags": []
   },
   "outputs": [],
   "source": [
    "\n",
    "\n",
    "# Define the problem parameters\n",
    "car_locations= vehicles.values.copy()\n",
    "station_locations= stations.values.copy()\n"
   ]
  },
  {
   "cell_type": "markdown",
   "id": "a5b4555e",
   "metadata": {
    "papermill": {
     "duration": 0.003219,
     "end_time": "2023-02-26T18:58:11.779423",
     "exception": false,
     "start_time": "2023-02-26T18:58:11.776204",
     "status": "completed"
    },
    "tags": []
   },
   "source": [
    "# SPEA2"
   ]
  },
  {
   "cell_type": "code",
   "execution_count": 4,
   "id": "771f81f4",
   "metadata": {
    "execution": {
     "iopub.execute_input": "2023-02-26T18:58:11.789033Z",
     "iopub.status.busy": "2023-02-26T18:58:11.787671Z",
     "iopub.status.idle": "2023-02-26T18:58:20.152267Z",
     "shell.execute_reply": "2023-02-26T18:58:20.151324Z"
    },
    "papermill": {
     "duration": 8.371715,
     "end_time": "2023-02-26T18:58:20.154598",
     "exception": false,
     "start_time": "2023-02-26T18:58:11.782883",
     "status": "completed"
    },
    "tags": []
   },
   "outputs": [
    {
     "name": "stdout",
     "output_type": "stream",
     "text": [
      "Pareto Front de SPEA2:\n",
      "  Distance: 403.4474536759368 Cost: 75.58210889707959 Assignments: [92, 98, 100, 98, 45, 88, 65, 60, 24, 5, 4, 36, 52, 89, 1, 100, 28, 66, 14, 36, 60, 5, 86, 100, 28, 79, 36, 36, 11, 53, 65, 22, 55, 83, 48, 68, 24, 1, 89, 51, 90, 101, 22, 69, 3, 60, 3, 15, 66, 83, 3, 47, 54, 99, 6, 1, 20, 44, 60, 83, 15, 86, 90, 54, 90, 89, 65, 56, 55, 90, 76, 20, 43, 16, 66, 66, 69, 101, 54, 60, 82, 15, 60, 55, 37, 57, 55, 24, 45, 55, 37, 90, 64, 19, 99, 97, 100, 89, 11, 36, 6, 24]\n",
      "-----------------------------------------------------\n",
      "  Distance: 415.7350628829682 Cost: 73.54799947207083 Assignments: [92, 98, 100, 32, 45, 69, 65, 60, 24, 5, 4, 36, 52, 89, 1, 100, 28, 66, 14, 36, 60, 5, 86, 100, 28, 79, 36, 36, 11, 92, 65, 22, 55, 83, 48, 68, 24, 1, 89, 51, 90, 101, 22, 69, 3, 60, 3, 15, 66, 83, 3, 47, 54, 99, 6, 1, 20, 44, 60, 83, 15, 86, 90, 54, 90, 89, 65, 56, 55, 90, 76, 20, 65, 16, 66, 66, 69, 101, 54, 60, 82, 15, 60, 55, 37, 57, 55, 24, 45, 55, 37, 90, 64, 19, 99, 97, 100, 89, 11, 100, 6, 24]\n",
      "-----------------------------------------------------\n",
      "  Distance: 402.48557959068 Cost: 75.66343406294511 Assignments: [92, 98, 95, 98, 45, 74, 65, 60, 24, 5, 4, 36, 52, 89, 1, 100, 28, 66, 14, 36, 60, 5, 86, 100, 28, 79, 36, 36, 11, 53, 65, 22, 55, 83, 48, 68, 24, 1, 89, 51, 90, 101, 22, 69, 3, 60, 3, 15, 66, 83, 3, 47, 54, 99, 6, 1, 20, 44, 60, 83, 15, 86, 90, 54, 90, 89, 65, 56, 55, 90, 76, 20, 43, 16, 66, 66, 69, 101, 54, 60, 82, 15, 60, 55, 37, 57, 55, 24, 45, 55, 37, 90, 64, 19, 99, 97, 100, 89, 11, 36, 6, 24]\n",
      "-----------------------------------------------------\n",
      "  Distance: 407.76333791564053 Cost: 74.34885281062473 Assignments: [92, 98, 100, 32, 45, 69, 65, 60, 24, 5, 4, 36, 52, 89, 1, 100, 28, 66, 14, 36, 60, 5, 86, 100, 28, 79, 36, 36, 11, 53, 65, 22, 55, 83, 48, 68, 24, 1, 89, 51, 90, 101, 22, 69, 3, 60, 3, 15, 66, 83, 3, 47, 54, 99, 6, 1, 20, 44, 60, 83, 15, 86, 90, 54, 90, 89, 65, 56, 68, 90, 76, 20, 43, 16, 66, 66, 69, 101, 54, 60, 82, 15, 60, 55, 37, 57, 55, 24, 45, 55, 37, 90, 64, 19, 99, 97, 100, 89, 11, 100, 6, 24]\n",
      "-----------------------------------------------------\n",
      "  Distance: 410.7514726587494 Cost: 74.15171602467944 Assignments: [92, 98, 100, 32, 45, 69, 65, 60, 24, 5, 4, 36, 52, 89, 1, 100, 28, 66, 14, 36, 60, 5, 86, 100, 28, 79, 36, 36, 11, 53, 65, 22, 55, 83, 48, 68, 24, 1, 89, 51, 90, 101, 22, 69, 3, 60, 3, 15, 66, 83, 3, 47, 54, 99, 6, 1, 20, 44, 60, 83, 15, 86, 90, 54, 90, 89, 65, 56, 55, 90, 76, 20, 65, 16, 66, 66, 69, 101, 54, 60, 82, 15, 60, 55, 37, 57, 55, 24, 45, 55, 37, 90, 64, 19, 99, 97, 100, 89, 11, 100, 6, 24]\n",
      "-----------------------------------------------------\n",
      "  Distance: 404.8366847538508 Cost: 75.0220498107931 Assignments: [92, 98, 100, 32, 45, 69, 65, 60, 24, 5, 4, 36, 52, 66, 1, 100, 28, 66, 14, 36, 60, 5, 86, 100, 28, 79, 36, 36, 11, 53, 65, 22, 55, 83, 48, 68, 24, 1, 89, 51, 90, 101, 22, 69, 3, 60, 3, 15, 66, 83, 3, 47, 54, 99, 6, 1, 20, 44, 60, 83, 15, 86, 90, 54, 90, 89, 65, 56, 55, 90, 76, 20, 43, 16, 66, 66, 69, 101, 54, 60, 82, 15, 60, 55, 37, 57, 55, 24, 45, 55, 37, 90, 64, 19, 99, 97, 100, 89, 11, 36, 6, 24]\n",
      "-----------------------------------------------------\n",
      "  Distance: 406.69442648037784 Cost: 74.65964300356357 Assignments: [92, 98, 100, 32, 45, 69, 65, 60, 24, 5, 4, 36, 52, 89, 1, 100, 28, 66, 14, 36, 60, 5, 86, 100, 28, 79, 36, 36, 11, 53, 65, 22, 55, 83, 48, 68, 24, 1, 89, 51, 90, 101, 22, 69, 3, 60, 3, 15, 66, 83, 3, 47, 54, 99, 6, 1, 20, 44, 60, 83, 15, 86, 90, 54, 90, 89, 65, 56, 55, 90, 76, 20, 43, 16, 66, 66, 69, 101, 54, 60, 82, 15, 60, 55, 37, 57, 55, 24, 45, 55, 37, 90, 64, 19, 99, 97, 100, 89, 11, 36, 6, 24]\n",
      "-----------------------------------------------------\n",
      "  Distance: 408.3046603757695 Cost: 74.261223138898 Assignments: [92, 98, 100, 32, 45, 69, 65, 60, 24, 5, 4, 36, 52, 89, 1, 100, 28, 66, 14, 36, 60, 5, 86, 100, 28, 79, 36, 36, 11, 53, 65, 22, 55, 83, 48, 68, 24, 1, 89, 51, 90, 101, 22, 99, 3, 60, 3, 15, 66, 83, 3, 47, 54, 99, 6, 1, 20, 44, 60, 83, 15, 86, 90, 54, 90, 89, 65, 56, 68, 90, 76, 20, 43, 16, 66, 66, 69, 101, 54, 60, 82, 15, 60, 55, 37, 57, 55, 24, 45, 55, 37, 90, 64, 19, 99, 97, 100, 89, 11, 100, 6, 24]\n",
      "-----------------------------------------------------\n"
     ]
    }
   ],
   "source": [
    "\n",
    "# Define the chromosome structure\n",
    "creator.create(\"FitnessMulti\", base.Fitness, weights=(-1.0, -1.0))\n",
    "creator.create(\"Individual\", list, fitness=creator.FitnessMulti)\n",
    "\n",
    "toolbox = base.Toolbox()\n",
    "\n",
    "# Define the genetic operators\n",
    "def evaluate(individual):\n",
    "    \n",
    "    total_distance = 0\n",
    "    total_cost = 0\n",
    "    station_count = [0] * len(station_locations)\n",
    "    for car_index, station_index in enumerate(individual):\n",
    "        car_x, car_y = car_locations[car_index]\n",
    "        station_x, station_y, station_price = station_locations[station_index]\n",
    "        distance = math.sqrt((car_x - station_x) ** 2 + (car_y - station_y) ** 2)\n",
    "        total_distance += distance\n",
    "        total_cost += station_price\n",
    "        station_count[station_index] += 1\n",
    "    # Add constraint for maximum number of visits to a station\n",
    "    for count in station_count:\n",
    "        if count > 6:\n",
    "            return total_distance+count,  total_cost+count\n",
    "    \n",
    "    \n",
    "    return total_distance, total_cost\n",
    "\n",
    "def random_station():\n",
    "    return random.randint(0, len(station_locations) - 1)\n",
    "\n",
    "def mutation(individual):\n",
    "    car_index = random.randint(0, len(individual) - 1)\n",
    "    individual[car_index] = random_station()\n",
    "    return individual,None\n",
    "\n",
    "def crossover(parent1, parent2):\n",
    "    cxpoint = random.randint(1, len(parent1) - 1)\n",
    "    child1 = parent1[:cxpoint] + parent2[cxpoint:]\n",
    "    child2 = parent2[:cxpoint] + parent1[cxpoint:]\n",
    "    return creator.Individual(child1), creator.Individual(child2)\n",
    "\n",
    "toolbox.register(\"evaluate\", evaluate)\n",
    "toolbox.register(\"individual\", tools.initRepeat, creator.Individual, random_station, len(car_locations))\n",
    "toolbox.register(\"population\", tools.initRepeat, list, toolbox.individual)\n",
    "toolbox.register(\"mate\", crossover)\n",
    "toolbox.register(\"mutate\", mutation)\n",
    "toolbox.register(\"select\", tools.selSPEA2)#SPEA2\n",
    "\n",
    "# Define the main function\n",
    "def main():\n",
    "    population_size = 100\n",
    "    num_generations = 100\n",
    "    cxpb = 0.5\n",
    "    mutpb = 0.2\n",
    "    # Create the initial population\n",
    "    population = toolbox.population(n=population_size)\n",
    "    \n",
    "    \n",
    "    # Evaluate the fitness of each individual in the population\n",
    "    fitnesses = [toolbox.evaluate(individual) for individual in population]\n",
    "    \n",
    "    for individual, fitness in zip(population, fitnesses):  \n",
    "        individual.fitness.values = fitness\n",
    "\n",
    "    # Run the evolution\n",
    "    for generation in range(num_generations):\n",
    "        # Select the parents for the next generation\n",
    "        \n",
    "        offspring = toolbox.select(population,20# len(population)\n",
    "                                  )\n",
    "\n",
    "        # Apply crossover to create the children\n",
    "        offspring = [toolbox.mate(parent1, parent2) for parent1, parent2 in zip(offspring[::2], offspring[1::2])]\n",
    "        offspring = [child for pair in offspring for child in pair]\n",
    "\n",
    "        # Apply mutation to create new individuals\n",
    "        for mutant in offspring:\n",
    "            if random.random() < mutpb:\n",
    "                toolbox.mutate(mutant)\n",
    "\n",
    "        # Evaluate the fitness of the new individuals\n",
    "        #print(offspring)\n",
    "        \n",
    "        fitnesses = [toolbox.evaluate(individual) for individual in offspring]\n",
    "        for individual, fitness in zip(offspring, fitnesses):\n",
    "            individual.fitness.values = fitness\n",
    "\n",
    "        # Combine the parents and children to create the next generation\n",
    "        population[:] = toolbox.select(population + offspring, population_size)\n",
    "        \n",
    "        \n",
    "        # Print the best individuals in the current generation\n",
    "        best_individuals = tools.selBest(population, k=10)\n",
    "        #print(\"Generation\", generation)\n",
    "        #for individual in best_individuals:\n",
    "            #print(\"  Distance:\", individual.fitness.values[0], \"Cost:\", individual.fitness.values[1], \"Assignments:\", individual)\n",
    "        # extract Pareto front\n",
    "        pareto_front = tools.sortNondominated(population, k=10, first_front_only=True)[0]\n",
    "    print(\"Pareto Front de SPEA2:\")\n",
    "    unique_front=[]\n",
    "    for individual in pareto_front:\n",
    "        if individual not in unique_front:\n",
    "            print(\"  Distance:\", individual.fitness.values[0], \"Cost:\", individual.fitness.values[1], \"Assignments:\", individual)\n",
    "            print(\"-----------------------------------------------------\")\n",
    "            unique_front.append(individual)\n",
    "    #return offspring\n",
    "\n",
    "\n",
    "main()"
   ]
  },
  {
   "cell_type": "code",
   "execution_count": null,
   "id": "0a8d74c3",
   "metadata": {
    "papermill": {
     "duration": 0.003334,
     "end_time": "2023-02-26T18:58:20.161730",
     "exception": false,
     "start_time": "2023-02-26T18:58:20.158396",
     "status": "completed"
    },
    "tags": []
   },
   "outputs": [],
   "source": []
  },
  {
   "cell_type": "markdown",
   "id": "d4d9e544",
   "metadata": {
    "papermill": {
     "duration": 0.003264,
     "end_time": "2023-02-26T18:58:20.168466",
     "exception": false,
     "start_time": "2023-02-26T18:58:20.165202",
     "status": "completed"
    },
    "tags": []
   },
   "source": [
    "# NSGA2"
   ]
  },
  {
   "cell_type": "code",
   "execution_count": 5,
   "id": "16c6b293",
   "metadata": {
    "execution": {
     "iopub.execute_input": "2023-02-26T18:58:20.176982Z",
     "iopub.status.busy": "2023-02-26T18:58:20.176597Z",
     "iopub.status.idle": "2023-02-26T18:58:21.821194Z",
     "shell.execute_reply": "2023-02-26T18:58:21.820262Z"
    },
    "papermill": {
     "duration": 1.652042,
     "end_time": "2023-02-26T18:58:21.823912",
     "exception": false,
     "start_time": "2023-02-26T18:58:20.171870",
     "status": "completed"
    },
    "tags": []
   },
   "outputs": [
    {
     "name": "stderr",
     "output_type": "stream",
     "text": [
      "/opt/conda/lib/python3.7/site-packages/deap/creator.py:141: RuntimeWarning: A class named 'FitnessMulti' has already been created and it will be overwritten. Consider deleting previous creation of that class or rename it.\n",
      "  RuntimeWarning)\n",
      "/opt/conda/lib/python3.7/site-packages/deap/creator.py:141: RuntimeWarning: A class named 'Individual' has already been created and it will be overwritten. Consider deleting previous creation of that class or rename it.\n",
      "  RuntimeWarning)\n"
     ]
    },
    {
     "name": "stdout",
     "output_type": "stream",
     "text": [
      "Pareto Front with NSGA2:\n",
      "  Distance: 385.0258109718852 Cost: 78.46503612921374 Assignments: [48, 83, 65, 51, 21, 46, 95, 101, 83, 5, 40, 99, 34, 100, 42, 37, 26, 65, 64, 97, 19, 99, 72, 79, 66, 50, 36, 15, 20, 52, 22, 100, 62, 27, 11, 99, 100, 95, 39, 98, 26, 99, 89, 65, 63, 46, 46, 101, 2, 68, 3, 44, 99, 57, 45, 55, 20, 32, 10, 35, 55, 10, 39, 4, 9, 1, 46, 63, 0, 72, 34, 50, 19, 7, 42, 1, 100, 9, 89, 43, 2, 89, 6, 99, 44, 57, 47, 47, 55, 65, 91, 45, 90, 32, 11, 65, 22, 60, 96, 55, 5, 79]\n",
      "-----------------------------------------------------\n",
      "  Distance: 381.9803086392677 Cost: 78.85744589221213 Assignments: [48, 83, 65, 51, 21, 46, 95, 101, 83, 5, 40, 99, 34, 100, 42, 37, 26, 65, 64, 97, 19, 99, 72, 79, 66, 50, 36, 15, 20, 52, 22, 100, 62, 27, 11, 99, 100, 95, 39, 98, 26, 99, 89, 65, 63, 46, 46, 14, 2, 68, 3, 44, 99, 57, 45, 55, 20, 32, 10, 35, 55, 10, 39, 4, 9, 1, 46, 63, 0, 72, 34, 50, 19, 7, 42, 1, 100, 9, 89, 43, 2, 89, 6, 99, 44, 57, 47, 47, 55, 65, 91, 45, 90, 32, 11, 60, 46, 60, 96, 55, 5, 79]\n",
      "-----------------------------------------------------\n",
      "  Distance: 385.74581837898126 Cost: 78.45940014621594 Assignments: [48, 83, 65, 51, 21, 46, 95, 101, 83, 5, 40, 99, 34, 100, 42, 37, 26, 65, 64, 97, 19, 99, 72, 79, 66, 50, 36, 15, 20, 52, 22, 100, 62, 27, 11, 99, 100, 95, 39, 98, 26, 66, 89, 65, 63, 46, 46, 101, 2, 68, 3, 44, 99, 57, 45, 55, 20, 32, 10, 35, 55, 10, 39, 4, 9, 1, 46, 63, 0, 72, 34, 50, 18, 7, 42, 1, 100, 9, 89, 43, 2, 89, 6, 99, 44, 57, 47, 47, 55, 65, 91, 45, 90, 32, 11, 65, 46, 60, 96, 55, 5, 79]\n",
      "-----------------------------------------------------\n",
      "  Distance: 407.7749116550215 Cost: 74.89953861663719 Assignments: [48, 83, 65, 51, 21, 46, 95, 101, 83, 5, 40, 99, 57, 100, 42, 37, 26, 65, 64, 97, 19, 55, 72, 79, 66, 50, 36, 100, 20, 52, 22, 100, 33, 0, 76, 19, 62, 69, 99, 36, 30, 47, 89, 65, 63, 46, 46, 101, 2, 68, 3, 44, 99, 57, 45, 55, 20, 32, 10, 35, 55, 10, 6, 4, 9, 1, 46, 63, 0, 72, 34, 50, 65, 64, 6, 1, 100, 9, 68, 45, 2, 89, 6, 99, 44, 57, 47, 47, 55, 65, 91, 45, 90, 32, 11, 60, 46, 60, 96, 55, 5, 79]\n",
      "-----------------------------------------------------\n",
      "  Distance: 412.44122677834747 Cost: 74.68557412795825 Assignments: [48, 83, 65, 51, 21, 46, 95, 101, 83, 5, 40, 99, 57, 100, 42, 37, 26, 65, 64, 97, 19, 99, 72, 79, 66, 50, 36, 100, 20, 52, 22, 100, 33, 0, 76, 19, 62, 69, 99, 36, 30, 47, 89, 65, 63, 46, 46, 101, 2, 68, 3, 44, 99, 57, 45, 55, 20, 32, 10, 35, 55, 10, 39, 4, 9, 1, 46, 63, 0, 72, 34, 50, 65, 64, 6, 1, 100, 9, 68, 45, 2, 89, 6, 99, 44, 57, 47, 47, 55, 65, 89, 19, 90, 32, 11, 60, 46, 60, 96, 55, 5, 79]\n",
      "-----------------------------------------------------\n",
      "  Distance: 383.37025746553707 Cost: 78.54548239505826 Assignments: [48, 83, 65, 51, 21, 46, 95, 101, 83, 5, 40, 99, 34, 100, 42, 37, 26, 65, 64, 91, 19, 99, 72, 79, 66, 50, 36, 15, 20, 52, 22, 100, 62, 27, 11, 99, 100, 95, 39, 98, 26, 66, 89, 65, 63, 46, 46, 101, 2, 68, 3, 44, 99, 57, 45, 55, 20, 32, 10, 35, 55, 10, 39, 4, 9, 1, 46, 63, 0, 72, 34, 50, 18, 7, 42, 1, 100, 9, 89, 43, 2, 89, 6, 99, 44, 57, 47, 47, 55, 65, 91, 45, 90, 32, 11, 65, 46, 60, 96, 55, 5, 79]\n",
      "-----------------------------------------------------\n",
      "  Distance: 419.3340879920574 Cost: 74.47637963064426 Assignments: [48, 83, 65, 51, 21, 46, 95, 101, 83, 5, 40, 99, 57, 100, 42, 37, 26, 65, 64, 97, 19, 55, 72, 79, 66, 50, 36, 100, 20, 52, 22, 100, 33, 0, 76, 72, 62, 69, 99, 36, 30, 47, 89, 65, 63, 46, 46, 101, 2, 68, 3, 44, 99, 57, 45, 55, 20, 32, 10, 35, 55, 10, 39, 4, 9, 1, 46, 63, 0, 40, 34, 50, 65, 64, 6, 15, 100, 87, 68, 45, 2, 89, 6, 99, 44, 57, 47, 47, 55, 65, 89, 19, 90, 32, 11, 60, 46, 60, 96, 55, 5, 79]\n",
      "-----------------------------------------------------\n",
      "  Distance: 404.83047862119565 Cost: 75.40839181263469 Assignments: [48, 83, 65, 51, 21, 46, 95, 101, 83, 5, 40, 99, 34, 100, 42, 37, 26, 65, 64, 97, 19, 99, 72, 79, 66, 50, 36, 100, 20, 52, 22, 100, 33, 0, 76, 19, 62, 69, 99, 36, 30, 47, 89, 65, 63, 46, 46, 101, 2, 68, 3, 44, 99, 57, 45, 55, 20, 32, 10, 35, 55, 10, 39, 4, 9, 1, 46, 63, 0, 72, 34, 50, 65, 64, 6, 1, 100, 9, 68, 45, 2, 89, 6, 99, 44, 57, 47, 47, 55, 65, 89, 19, 90, 32, 11, 60, 46, 60, 96, 55, 5, 79]\n",
      "-----------------------------------------------------\n",
      "  Distance: 400.62410239753365 Cost: 75.73112548098266 Assignments: [48, 83, 65, 51, 21, 46, 95, 101, 83, 5, 40, 99, 57, 100, 42, 37, 26, 65, 64, 97, 19, 55, 72, 79, 66, 50, 36, 15, 20, 52, 22, 100, 62, 27, 11, 99, 100, 95, 39, 98, 26, 99, 89, 65, 63, 46, 46, 101, 2, 68, 3, 44, 99, 57, 45, 55, 20, 32, 10, 35, 55, 10, 39, 4, 9, 1, 46, 63, 0, 72, 34, 50, 65, 64, 6, 1, 100, 9, 68, 45, 2, 89, 6, 99, 44, 57, 47, 47, 55, 65, 89, 19, 90, 32, 11, 60, 46, 60, 96, 55, 5, 79]\n",
      "-----------------------------------------------------\n",
      "  Distance: 388.5892349775951 Cost: 76.70315503826903 Assignments: [48, 83, 65, 51, 21, 46, 95, 101, 83, 5, 40, 99, 34, 100, 42, 37, 26, 65, 64, 97, 19, 55, 72, 79, 66, 50, 36, 15, 20, 52, 22, 100, 62, 27, 11, 99, 100, 95, 39, 98, 26, 99, 89, 65, 63, 46, 46, 101, 2, 68, 3, 44, 99, 57, 45, 55, 20, 32, 10, 35, 55, 10, 6, 4, 9, 1, 46, 63, 0, 72, 34, 50, 65, 64, 6, 1, 100, 9, 68, 45, 2, 89, 6, 99, 44, 57, 47, 47, 55, 65, 91, 45, 90, 32, 11, 60, 46, 60, 96, 55, 5, 79]\n",
      "-----------------------------------------------------\n",
      "  Distance: 385.7965675622714 Cost: 77.93324450914878 Assignments: [48, 83, 65, 51, 21, 46, 95, 101, 83, 5, 40, 99, 34, 100, 42, 37, 26, 65, 64, 97, 19, 99, 72, 79, 66, 50, 36, 15, 20, 52, 22, 100, 62, 27, 11, 99, 100, 95, 39, 98, 26, 99, 89, 65, 63, 46, 46, 101, 2, 68, 3, 44, 99, 57, 45, 55, 20, 32, 10, 35, 55, 10, 6, 4, 9, 1, 46, 63, 0, 72, 34, 50, 18, 7, 42, 1, 100, 9, 89, 43, 2, 89, 6, 99, 44, 57, 47, 47, 55, 65, 91, 45, 90, 32, 11, 65, 46, 60, 96, 55, 5, 79]\n",
      "-----------------------------------------------------\n",
      "  Distance: 392.93069307096766 Cost: 76.13576780175697 Assignments: [48, 83, 65, 51, 21, 46, 95, 101, 83, 5, 40, 99, 34, 100, 42, 37, 26, 65, 64, 97, 19, 55, 72, 79, 66, 50, 36, 15, 20, 52, 22, 100, 62, 27, 11, 99, 100, 95, 39, 98, 26, 99, 89, 65, 63, 46, 46, 101, 2, 68, 3, 44, 99, 57, 45, 55, 20, 32, 10, 35, 55, 10, 6, 4, 9, 1, 46, 63, 0, 72, 34, 50, 65, 64, 6, 1, 100, 9, 68, 45, 2, 89, 6, 99, 44, 57, 47, 47, 55, 65, 89, 19, 90, 32, 11, 60, 46, 60, 96, 55, 5, 79]\n",
      "-----------------------------------------------------\n",
      "  Distance: 402.375039155355 Cost: 75.41896422507259 Assignments: [48, 83, 65, 51, 21, 46, 95, 101, 83, 5, 40, 99, 57, 100, 42, 37, 26, 65, 64, 97, 19, 55, 72, 79, 66, 50, 36, 15, 20, 52, 22, 100, 62, 27, 11, 99, 100, 95, 39, 98, 26, 99, 89, 65, 63, 46, 46, 101, 2, 68, 3, 44, 99, 57, 45, 55, 20, 32, 10, 35, 55, 10, 39, 4, 19, 1, 46, 63, 0, 72, 34, 50, 65, 64, 6, 1, 100, 9, 68, 45, 2, 89, 6, 99, 44, 57, 47, 47, 55, 65, 89, 19, 90, 32, 11, 60, 46, 60, 96, 55, 5, 79]\n",
      "-----------------------------------------------------\n",
      "  Distance: 413.1608203153775 Cost: 74.49242487360404 Assignments: [48, 83, 65, 51, 21, 46, 95, 101, 83, 5, 40, 99, 57, 100, 42, 37, 26, 65, 64, 97, 19, 99, 72, 79, 66, 50, 36, 100, 20, 52, 22, 100, 33, 0, 76, 72, 62, 69, 99, 36, 30, 47, 89, 65, 63, 46, 46, 101, 2, 68, 3, 44, 99, 57, 45, 55, 20, 32, 10, 35, 55, 10, 39, 4, 9, 1, 46, 63, 0, 72, 34, 50, 65, 64, 6, 1, 100, 9, 68, 45, 2, 89, 6, 99, 44, 57, 47, 47, 55, 65, 89, 19, 90, 32, 11, 60, 46, 60, 96, 55, 5, 79]\n",
      "-----------------------------------------------------\n"
     ]
    }
   ],
   "source": [
    "# Define the chromosome structure\n",
    "creator.create(\"FitnessMulti\", base.Fitness, weights=(-1.0, -1.0))\n",
    "creator.create(\"Individual\", list, fitness=creator.FitnessMulti)\n",
    "\n",
    "toolbox = base.Toolbox()\n",
    "\n",
    "# Define the genetic operators\n",
    "def evaluate(individual):\n",
    "    \n",
    "    total_distance = 0\n",
    "    total_cost = 0\n",
    "    station_count = [0] * len(station_locations)\n",
    "    for car_index, station_index in enumerate(individual):\n",
    "        car_x, car_y = car_locations[car_index]\n",
    "        station_x, station_y, station_price = station_locations[station_index]\n",
    "        distance = math.sqrt((car_x - station_x) ** 2 + (car_y - station_y) ** 2)\n",
    "        total_distance += distance\n",
    "        total_cost += station_price\n",
    "        station_count[station_index] += 1\n",
    "    # Add constraint for maximum number of visits to a station\n",
    "    for count in station_count:\n",
    "        if count > 6:\n",
    "            return total_distance+count,  total_cost+count\n",
    "    \n",
    "    \n",
    "    return total_distance, total_cost\n",
    "\n",
    "def random_station():\n",
    "    return random.randint(0, len(station_locations) - 1)\n",
    "\n",
    "def mutation(individual):\n",
    "    car_index = random.randint(0, len(individual) - 1)\n",
    "    individual[car_index] = random_station()\n",
    "    return individual,None\n",
    "\n",
    "def crossover(parent1, parent2):\n",
    "    cxpoint = random.randint(1, len(parent1) - 1)\n",
    "    child1 = parent1[:cxpoint] + parent2[cxpoint:]\n",
    "    child2 = parent2[:cxpoint] + parent1[cxpoint:]\n",
    "    return creator.Individual(child1), creator.Individual(child2)\n",
    "\n",
    "toolbox.register(\"evaluate\", evaluate)\n",
    "toolbox.register(\"individual\", tools.initRepeat, creator.Individual, random_station, len(car_locations))\n",
    "toolbox.register(\"population\", tools.initRepeat, list, toolbox.individual)\n",
    "toolbox.register(\"mate\", crossover)\n",
    "toolbox.register(\"mutate\", mutation)\n",
    "toolbox.register(\"select\", tools.selNSGA2)\n",
    "\n",
    "# Define the main function\n",
    "def main():\n",
    "    population_size = 100\n",
    "    num_generations = 100\n",
    "    cxpb = 0.5\n",
    "    mutpb = 0.2\n",
    "    # Create the initial population\n",
    "    population = toolbox.population(n=population_size)\n",
    "    \n",
    "    \n",
    "    # Evaluate the fitness of each individual in the population\n",
    "    fitnesses = [toolbox.evaluate(individual) for individual in population]\n",
    "    \n",
    "    for individual, fitness in zip(population, fitnesses):  \n",
    "        individual.fitness.values = fitness\n",
    "\n",
    "    # Run the evolution\n",
    "    for generation in range(num_generations):\n",
    "        # Select the parents for the next generation\n",
    "        \n",
    "        offspring = toolbox.select(population,20# len(population)\n",
    "                                  )\n",
    "\n",
    "        # Apply crossover to create the children\n",
    "        offspring = [toolbox.mate(parent1, parent2) for parent1, parent2 in zip(offspring[::2], offspring[1::2])]\n",
    "        offspring = [child for pair in offspring for child in pair]\n",
    "\n",
    "        # Apply mutation to create new individuals\n",
    "        for mutant in offspring:\n",
    "            if random.random() < mutpb:\n",
    "                toolbox.mutate(mutant)\n",
    "\n",
    "        # Evaluate the fitness of the new individuals\n",
    "        #print(offspring)\n",
    "        \n",
    "        fitnesses = [toolbox.evaluate(individual) for individual in offspring]\n",
    "        for individual, fitness in zip(offspring, fitnesses):\n",
    "            individual.fitness.values = fitness\n",
    "\n",
    "        # Combine the parents and children to create the next generation\n",
    "        population[:] = toolbox.select(population + offspring, population_size)\n",
    "        \n",
    "        \n",
    "        # Print the best individuals in the current generation\n",
    "        #best_individuals = tools.selBest(population, k=10)\n",
    "        #print(\"Generation\", generation)\n",
    "        #for individual in best_individuals:\n",
    "            #print(\"  Distance:\", individual.fitness.values[0], \"Cost:\", individual.fitness.values[1], \"Assignments:\", individual)\n",
    "        # extract Pareto front\n",
    "        pareto_front = tools.sortNondominated(population, k=10, first_front_only=True)[0]\n",
    "    print(\"Pareto Front with NSGA2:\")\n",
    "    unique_front=[]\n",
    "    for individual in pareto_front:\n",
    "        if individual not in unique_front:\n",
    "            print(\"  Distance:\", individual.fitness.values[0], \"Cost:\", individual.fitness.values[1], \"Assignments:\", individual)\n",
    "            print(\"-----------------------------------------------------\")\n",
    "            unique_front.append(individual)\n",
    "    return offspring\n",
    "\n",
    "offspring=main()"
   ]
  },
  {
   "cell_type": "code",
   "execution_count": null,
   "id": "f8eaea16",
   "metadata": {
    "papermill": {
     "duration": 0.003839,
     "end_time": "2023-02-26T18:58:21.831929",
     "exception": false,
     "start_time": "2023-02-26T18:58:21.828090",
     "status": "completed"
    },
    "tags": []
   },
   "outputs": [],
   "source": []
  },
  {
   "cell_type": "code",
   "execution_count": null,
   "id": "9dcab019",
   "metadata": {
    "papermill": {
     "duration": 0.003463,
     "end_time": "2023-02-26T18:58:21.839264",
     "exception": false,
     "start_time": "2023-02-26T18:58:21.835801",
     "status": "completed"
    },
    "tags": []
   },
   "outputs": [],
   "source": []
  },
  {
   "cell_type": "code",
   "execution_count": null,
   "id": "2f01d4b6",
   "metadata": {
    "papermill": {
     "duration": 0.003548,
     "end_time": "2023-02-26T18:58:21.846679",
     "exception": false,
     "start_time": "2023-02-26T18:58:21.843131",
     "status": "completed"
    },
    "tags": []
   },
   "outputs": [],
   "source": []
  },
  {
   "cell_type": "code",
   "execution_count": null,
   "id": "145751b6",
   "metadata": {
    "papermill": {
     "duration": 0.00359,
     "end_time": "2023-02-26T18:58:21.854072",
     "exception": false,
     "start_time": "2023-02-26T18:58:21.850482",
     "status": "completed"
    },
    "tags": []
   },
   "outputs": [],
   "source": []
  },
  {
   "cell_type": "markdown",
   "id": "17ba74ab",
   "metadata": {
    "papermill": {
     "duration": 0.00369,
     "end_time": "2023-02-26T18:58:21.861582",
     "exception": false,
     "start_time": "2023-02-26T18:58:21.857892",
     "status": "completed"
    },
    "tags": []
   },
   "source": [
    "## Extra / not important "
   ]
  },
  {
   "cell_type": "code",
   "execution_count": 6,
   "id": "96fe7202",
   "metadata": {
    "execution": {
     "iopub.execute_input": "2023-02-26T18:58:21.871482Z",
     "iopub.status.busy": "2023-02-26T18:58:21.871076Z",
     "iopub.status.idle": "2023-02-26T18:58:22.362770Z",
     "shell.execute_reply": "2023-02-26T18:58:22.361917Z"
    },
    "papermill": {
     "duration": 0.499748,
     "end_time": "2023-02-26T18:58:22.365318",
     "exception": false,
     "start_time": "2023-02-26T18:58:21.865570",
     "status": "completed"
    },
    "tags": []
   },
   "outputs": [
    {
     "name": "stdout",
     "output_type": "stream",
     "text": [
      "Pareto Front:\n",
      "  Distance: 72.89435788732315 Cost: 15.0 Assignments: [1, 1, 1, 6]\n",
      "  Distance: 72.89435788732315 Cost: 15.0 Assignments: [1, 1, 1, 6]\n",
      "  Distance: 72.89435788732315 Cost: 15.0 Assignments: [1, 1, 1, 6]\n",
      "  Distance: 72.89435788732315 Cost: 15.0 Assignments: [1, 1, 1, 6]\n",
      "  Distance: 72.89435788732315 Cost: 15.0 Assignments: [1, 1, 1, 6]\n",
      "  Distance: 72.89435788732315 Cost: 15.0 Assignments: [1, 1, 1, 6]\n",
      "  Distance: 63.81671736583818 Cost: 25.0 Assignments: [3, 3, 4, 6]\n",
      "  Distance: 63.81671736583818 Cost: 25.0 Assignments: [3, 3, 4, 6]\n",
      "  Distance: 63.81671736583818 Cost: 25.0 Assignments: [3, 3, 4, 6]\n",
      "  Distance: 63.81671736583818 Cost: 25.0 Assignments: [3, 3, 4, 6]\n",
      "  Distance: 63.81671736583818 Cost: 25.0 Assignments: [3, 3, 4, 6]\n",
      "  Distance: 63.81671736583818 Cost: 25.0 Assignments: [3, 3, 4, 6]\n",
      "  Distance: 63.81671736583818 Cost: 25.0 Assignments: [3, 3, 4, 6]\n",
      "  Distance: 89.86492063580029 Cost: 5.0 Assignments: [6, 6, 1, 6]\n",
      "  Distance: 89.86492063580029 Cost: 5.0 Assignments: [6, 6, 1, 6]\n",
      "  Distance: 89.86492063580029 Cost: 5.0 Assignments: [6, 6, 1, 6]\n",
      "  Distance: 89.86492063580029 Cost: 5.0 Assignments: [6, 6, 1, 6]\n",
      "  Distance: 89.86492063580029 Cost: 5.0 Assignments: [6, 6, 1, 6]\n",
      "  Distance: 67.23750363783077 Cost: 19.0 Assignments: [3, 1, 1, 6]\n",
      "  Distance: 67.23750363783077 Cost: 19.0 Assignments: [3, 1, 1, 6]\n",
      "  Distance: 67.23750363783077 Cost: 19.0 Assignments: [3, 1, 1, 6]\n",
      "  Distance: 67.23750363783077 Cost: 19.0 Assignments: [3, 1, 1, 6]\n",
      "  Distance: 67.23750363783077 Cost: 19.0 Assignments: [3, 1, 1, 6]\n",
      "  Distance: 67.23750363783077 Cost: 19.0 Assignments: [3, 1, 1, 6]\n",
      "  Distance: 75.72278501206934 Cost: 14.0 Assignments: [3, 6, 1, 6]\n",
      "  Distance: 75.72278501206934 Cost: 14.0 Assignments: [3, 6, 1, 6]\n",
      "  Distance: 75.72278501206934 Cost: 14.0 Assignments: [3, 6, 1, 6]\n",
      "  Distance: 75.72278501206934 Cost: 14.0 Assignments: [3, 6, 1, 6]\n",
      "  Distance: 64.40907651308459 Cost: 23.0 Assignments: [3, 3, 1, 6]\n",
      "  Distance: 70.23750363783077 Cost: 17.0 Assignments: [4, 1, 1, 6]\n",
      "  Distance: 78.72278501206934 Cost: 12.0 Assignments: [4, 6, 1, 6]\n",
      "  Distance: 81.37963926156172 Cost: 10.0 Assignments: [6, 1, 1, 6]\n",
      "[[3, 6, 1, 6], [3, 3, 4, 6], [4, 6, 1, 6], [6, 1, 1, 6]]\n"
     ]
    }
   ],
   "source": [
    "import random\n",
    "import math\n",
    "from deap import base, creator, tools\n",
    "\n",
    "# Define the problem parameters\n",
    "car_locations = [[0, 0], [1, 1], [2, 2],[66,32]]\n",
    "station_locations = [[3, 3, 10], [4, 4, 5], [5, 5, 8],[0, 0, 9],[3, 0, 7],\n",
    "                    [10, 10, 97],[10, 10, 0]]\n",
    "\n",
    "# Define the chromosome structure\n",
    "creator.create(\"FitnessMulti\", base.Fitness, weights=(-1.0, -1.0))\n",
    "creator.create(\"Individual\", list, fitness=creator.FitnessMulti)\n",
    "\n",
    "toolbox = base.Toolbox()\n",
    "\n",
    "# Define the genetic operators\n",
    "def evaluate(individual):\n",
    "    \n",
    "    total_distance = 0\n",
    "    total_cost = 0\n",
    "    #print(individual)\n",
    "    for car_index, station_index in enumerate(individual):\n",
    "        car_x, car_y = car_locations[car_index]\n",
    "        station_x, station_y, station_price = station_locations[station_index]\n",
    "        distance = math.sqrt((car_x - station_x) ** 2 + (car_y - station_y) ** 2)\n",
    "        total_distance += distance\n",
    "        total_cost += station_price\n",
    "    return total_distance, total_cost\n",
    "\n",
    "def random_station():\n",
    "    return random.randint(0, len(station_locations) - 1)\n",
    "\n",
    "def mutation(individual):\n",
    "    car_index = random.randint(0, len(individual) - 1)\n",
    "    individual[car_index] = random_station()\n",
    "    return individual,None\n",
    "\n",
    "def crossover(parent1, parent2):\n",
    "    cxpoint = random.randint(1, len(parent1) - 1)\n",
    "    child1 = parent1[:cxpoint] + parent2[cxpoint:]\n",
    "    child2 = parent2[:cxpoint] + parent1[cxpoint:]\n",
    "    return creator.Individual(child1), creator.Individual(child2)\n",
    "\n",
    "toolbox.register(\"evaluate\", evaluate)\n",
    "toolbox.register(\"individual\", tools.initRepeat, creator.Individual, random_station, len(car_locations))\n",
    "toolbox.register(\"population\", tools.initRepeat, list, toolbox.individual)\n",
    "toolbox.register(\"mate\", crossover)\n",
    "toolbox.register(\"mutate\", mutation)\n",
    "toolbox.register(\"select\", tools.selSPEA2)\n",
    "\n",
    "# Define the main function\n",
    "def main():\n",
    "    population_size = 100\n",
    "    num_generations = 10\n",
    "    cxpb = 0.5\n",
    "    mutpb = 0.2\n",
    "    # Create the initial population\n",
    "    population = toolbox.population(n=population_size)\n",
    "\n",
    "    # Evaluate the fitness of each individual in the population\n",
    "    fitnesses = [toolbox.evaluate(individual) for individual in population]\n",
    "    \n",
    "    for individual, fitness in zip(population, fitnesses):  \n",
    "        individual.fitness.values = fitness\n",
    "\n",
    "    # Run the evolution\n",
    "\n",
    "    for generation in range(num_generations):\n",
    "        # Select the parents for the next generation\n",
    "        \n",
    "        offspring = toolbox.select(population,5# len(population)\n",
    "                                  )\n",
    "\n",
    "        # Apply crossover to create the children\n",
    "        offspring = [toolbox.mate(parent1, parent2) for parent1, parent2 in zip(offspring[::2], offspring[1::2])]\n",
    "        offspring = [child for pair in offspring for child in pair]\n",
    "\n",
    "        # Apply mutation to create new individuals\n",
    "        for mutant in offspring:\n",
    "            if random.random() < mutpb:\n",
    "                toolbox.mutate(mutant)\n",
    "\n",
    "        # Evaluate the fitness of the new individuals\n",
    "        #print(offspring)\n",
    "        \n",
    "        fitnesses = [toolbox.evaluate(individual) for individual in offspring]\n",
    "        for individual, fitness in zip(offspring, fitnesses):\n",
    "            individual.fitness.values = fitness\n",
    "\n",
    "        # Combine the parents and children to create the next generation\n",
    "        population[:] = toolbox.select(population + offspring, population_size)\n",
    "\n",
    "        # Print the best individuals in the current generation\n",
    "        best_individuals = tools.selBest(population, k=10)\n",
    "        #print(\"Generation\", generation)\n",
    "        for individual in best_individuals:\n",
    "            pass\n",
    "            #print(\"  Distance:\", individual.fitness.values[0], \"Cost:\", individual.fitness.values[1], \"Assignments:\", individual)\n",
    "        # extract Pareto front\n",
    "        pareto_front = tools.sortNondominated(population, k=5, first_front_only=True)[0]\n",
    "    print(\"Pareto Front:\")\n",
    "    for individual in pareto_front:\n",
    "        print(\"  Distance:\", individual.fitness.values[0], \"Cost:\", individual.fitness.values[1], \"Assignments:\", individual)\n",
    " \n",
    "    print(offspring)\n",
    "\n",
    "main()"
   ]
  }
 ],
 "metadata": {
  "kernelspec": {
   "display_name": "Python 3",
   "language": "python",
   "name": "python3"
  },
  "language_info": {
   "codemirror_mode": {
    "name": "ipython",
    "version": 3
   },
   "file_extension": ".py",
   "mimetype": "text/x-python",
   "name": "python",
   "nbconvert_exporter": "python",
   "pygments_lexer": "ipython3",
   "version": "3.7.12"
  },
  "papermill": {
   "default_parameters": {},
   "duration": 20.025763,
   "end_time": "2023-02-26T18:58:22.991221",
   "environment_variables": {},
   "exception": null,
   "input_path": "__notebook__.ipynb",
   "output_path": "__notebook__.ipynb",
   "parameters": {},
   "start_time": "2023-02-26T18:58:02.965458",
   "version": "2.3.4"
  }
 },
 "nbformat": 4,
 "nbformat_minor": 5
}
